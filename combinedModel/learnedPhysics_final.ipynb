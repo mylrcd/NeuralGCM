{
 "cells": [
  {
   "cell_type": "code",
   "execution_count": 1,
   "metadata": {},
   "outputs": [],
   "source": [
    "import xarray as xr\n",
    "import numpy as np\n",
    "\n",
    "regridded_encode = xr.open_dataset(\"data/encoded_dataa_64x32.nc\")"
   ]
  },
  {
   "cell_type": "code",
   "execution_count": null,
   "metadata": {},
   "outputs": [],
   "source": [
    "num_repeats = 5\n",
    "\n",
    "expanded_regridded_encode = regridded_encode.isel(time=slice(0, 5)).copy()\n",
    "expanded_regridded_encode = xr.concat([expanded_regridded_encode] * num_repeats, dim=\"time\")\n",
    "\n",
    "new_time_values = np.arange(25)\n",
    "expanded_regridded_encode = expanded_regridded_encode.assign_coords(time=new_time_values)"
   ]
  },
  {
   "cell_type": "code",
   "execution_count": null,
   "metadata": {},
   "outputs": [],
   "source": [
    "import torch\n",
    "from torch.optim import Adam\n",
    "from torch.nn import MSELoss\n",
    "from learnedPhysics import LearnedPhysicsModel\n",
    "from dynamical_core import DynamicalCoreRunner\n",
    "from loss_function import combined_loss\n",
    "import jax\n",
    "\n",
    "def train_model(expanded_regridded_encode, regridded_encode, variables_to_keep,\n",
    "                num_iterations=24, integration_steps=5, loop_iterations=4, lr=1e-3):\n",
    "\n",
    "    model = LearnedPhysicsModel()\n",
    "    optimizer = Adam(model.parameters(), lr=lr)\n",
    "    criterion = MSELoss()\n",
    "\n",
    "    rng_key = jax.random.PRNGKey(42)\n",
    "\n",
    "    for i in range(num_iterations):\n",
    "\n",
    "        data_lp = expanded_regridded_encode.isel(time=i)\n",
    "\n",
    "        predicted_tendencies = model.forward(data_lp)\n",
    "\n",
    "        predicted_tendencies = predicted_tendencies.view(6, 32, 64, 32)\n",
    "\n",
    "        if (i + 1) % 5 == 0:\n",
    "\n",
    "            runner = DynamicalCoreRunner(regridded_encode,\n",
    "                                            integration_steps=integration_steps,\n",
    "                                            loop_iterations=loop_iterations,\n",
    "                                            time_i=0)\n",
    "            out_state = runner.run()\n",
    "\n",
    "            data_pred = expanded_regridded_encode.isel(time=i + 1)\n",
    "            \n",
    "            out_state_pred = out_state.drop_vars([var for var in out_state.data_vars if var not in variables_to_keep])\n",
    "            data_pred = data_pred.drop_vars([var for var in data_pred.data_vars if var not in variables_to_keep])\n",
    "\n",
    "            out_state_pred_tensor = torch.stack(\n",
    "                [torch.tensor(out_state_pred[var].values, dtype=torch.float32)\n",
    "                    for var in out_state_pred.data_vars],\n",
    "                dim=0\n",
    "            )\n",
    "            data_pred_tensor = torch.stack(\n",
    "                [torch.tensor(data_pred[var].values, dtype=torch.float32)\n",
    "                    for var in data_pred.data_vars],\n",
    "                dim=0\n",
    "            )\n",
    "            \n",
    "            target_error = combined_loss(out_state_pred_tensor, data_pred_tensor)\n",
    "            \n",
    "            loss = criterion(predicted_tendencies, target_error)\n",
    "\n",
    "            optimizer.zero_grad()\n",
    "            loss.backward()\n",
    "            optimizer.step()\n",
    "\n",
    "            print(f\"Itération {i+1}: Loss = {loss.item():.6f}\")"
   ]
  },
  {
   "cell_type": "code",
   "execution_count": null,
   "metadata": {},
   "outputs": [],
   "source": [
    "train_model(expanded_regridded_encode, regridded_encode, variables_to_keep)"
   ]
  }
 ],
 "metadata": {
  "kernelspec": {
   "display_name": "venvPFE",
   "language": "python",
   "name": "python3"
  },
  "language_info": {
   "codemirror_mode": {
    "name": "ipython",
    "version": 3
   },
   "file_extension": ".py",
   "mimetype": "text/x-python",
   "name": "python",
   "nbconvert_exporter": "python",
   "pygments_lexer": "ipython3",
   "version": "3.11.5"
  }
 },
 "nbformat": 4,
 "nbformat_minor": 2
}
